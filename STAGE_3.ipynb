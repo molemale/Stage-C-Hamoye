{
  "nbformat": 4,
  "nbformat_minor": 0,
  "metadata": {
    "colab": {
      "name": "STAGE 3.ipynb",
      "provenance": [],
      "collapsed_sections": [],
      "authorship_tag": "ABX9TyNxx3TGV15tBTgdSj5l16lr",
      "include_colab_link": true
    },
    "kernelspec": {
      "name": "python3",
      "display_name": "Python 3"
    }
  },
  "cells": [
    {
      "cell_type": "markdown",
      "metadata": {
        "id": "view-in-github",
        "colab_type": "text"
      },
      "source": [
        "<a href=\"https://colab.research.google.com/github/molemale/Stage-C-Hamoye/blob/master/STAGE_3.ipynb\" target=\"_parent\"><img src=\"https://colab.research.google.com/assets/colab-badge.svg\" alt=\"Open In Colab\"/></a>"
      ]
    },
    {
      "cell_type": "code",
      "metadata": {
        "id": "pLY32RSD3KrO",
        "colab_type": "code",
        "colab": {}
      },
      "source": [
        "#import library\n",
        "import pandas as pd\n",
        "import numpy as np"
      ],
      "execution_count": null,
      "outputs": []
    },
    {
      "cell_type": "code",
      "metadata": {
        "id": "Rezppbf73gRQ",
        "colab_type": "code",
        "colab": {}
      },
      "source": [
        "data = pd.read_csv('https://archive.ics.uci.edu/ml/machine-learning-databases/00471/Data_for_UCI_named.csv')"
      ],
      "execution_count": null,
      "outputs": []
    },
    {
      "cell_type": "code",
      "metadata": {
        "id": "x47CABDR-VUX",
        "colab_type": "code",
        "colab": {}
      },
      "source": [
        "data.shape"
      ],
      "execution_count": null,
      "outputs": []
    },
    {
      "cell_type": "code",
      "metadata": {
        "id": "7qRzPdEF-d6d",
        "colab_type": "code",
        "colab": {}
      },
      "source": [
        "data.head(5)"
      ],
      "execution_count": null,
      "outputs": []
    },
    {
      "cell_type": "code",
      "metadata": {
        "id": "tZ23VX2i-oDL",
        "colab_type": "code",
        "colab": {}
      },
      "source": [
        "data.isna().sum()"
      ],
      "execution_count": null,
      "outputs": []
    },
    {
      "cell_type": "code",
      "metadata": {
        "id": "0r2DaI0A-5sy",
        "colab_type": "code",
        "colab": {}
      },
      "source": [
        "df = data.drop(columns = 'stab')"
      ],
      "execution_count": null,
      "outputs": []
    },
    {
      "cell_type": "code",
      "metadata": {
        "id": "vTiXE8sU_A_m",
        "colab_type": "code",
        "colab": {}
      },
      "source": [
        "df.head(12)"
      ],
      "execution_count": null,
      "outputs": []
    },
    {
      "cell_type": "code",
      "metadata": {
        "id": "ACINqTMV_Qa3",
        "colab_type": "code",
        "colab": {}
      },
      "source": [
        "df['stabf'].value_counts()"
      ],
      "execution_count": null,
      "outputs": []
    },
    {
      "cell_type": "code",
      "metadata": {
        "id": "TeNmeLWpAR6-",
        "colab_type": "code",
        "colab": {}
      },
      "source": [
        "x = df.drop(columns = 'stabf')\n",
        "y = df['stabf']"
      ],
      "execution_count": null,
      "outputs": []
    },
    {
      "cell_type": "code",
      "metadata": {
        "id": "isVjPe00AX3r",
        "colab_type": "code",
        "colab": {}
      },
      "source": [
        "from sklearn.model_selection import train_test_split\n",
        "x_train, x_test, y_train, y_test = train_test_split(x, y, test_size = 0.2, random_state = 1)"
      ],
      "execution_count": null,
      "outputs": []
    },
    {
      "cell_type": "code",
      "metadata": {
        "id": "zgGDJTHRAfrB",
        "colab_type": "code",
        "colab": {}
      },
      "source": [
        "from sklearn.preprocessing import StandardScaler\n",
        "scaler = StandardScaler()\n",
        "\n",
        "standardised_train_df = scaler.fit_transform(x_train)\n",
        "standardised_train_df = pd.DataFrame(standardised_train_df)\n",
        "standardised_train_df"
      ],
      "execution_count": null,
      "outputs": []
    },
    {
      "cell_type": "code",
      "metadata": {
        "id": "rg3DPW7FAo8A",
        "colab_type": "code",
        "colab": {}
      },
      "source": [
        "standardised_test_df = scaler.fit_transform(x_test)\n",
        "standardised_test_df = pd.DataFrame(standardised_test_df)\n",
        "standardised_test_df"
      ],
      "execution_count": null,
      "outputs": []
    },
    {
      "cell_type": "code",
      "metadata": {
        "id": "wxXzFhqvAw39",
        "colab_type": "code",
        "colab": {}
      },
      "source": [
        "# Random Trees Classifer\n",
        "\n",
        "from sklearn.ensemble import RandomForestClassifier\n",
        "clf = RandomForestClassifier(random_state = 1)\n",
        "\n",
        "clf.fit(standardised_train_df, y_train)"
      ],
      "execution_count": null,
      "outputs": []
    },
    {
      "cell_type": "code",
      "metadata": {
        "id": "4gi5X93pBFgH",
        "colab_type": "code",
        "colab": {}
      },
      "source": [
        "from sklearn.metrics import recall_score, accuracy_score, precision_score, f1_score, confusion_matrix\n",
        "new_predictions_0 = clf.predict(standardised_test_df)"
      ],
      "execution_count": null,
      "outputs": []
    },
    {
      "cell_type": "code",
      "metadata": {
        "id": "G1vyKTRxBJDK",
        "colab_type": "code",
        "colab": {}
      },
      "source": [
        "cnf_mat0 = confusion_matrix(y_true = y_test, y_pred = new_predictions_0, labels = ['unstable', 'stable'])\n",
        "cnf_mat0"
      ],
      "execution_count": null,
      "outputs": []
    },
    {
      "cell_type": "code",
      "metadata": {
        "id": "7vuH6F9xBVAQ",
        "colab_type": "code",
        "colab": {}
      },
      "source": [
        "accuracy0 = accuracy_score(y_true = y_test, y_pred = new_predictions_0)\n",
        "print( 'Accuracy: {}'.format(round(accuracy0*100), 2))\n",
        "accuracy0"
      ],
      "execution_count": null,
      "outputs": []
    },
    {
      "cell_type": "code",
      "metadata": {
        "id": "m3r1k0SIBcti",
        "colab_type": "code",
        "colab": {}
      },
      "source": [
        "precision0 = precision_score(y_true = y_test, y_pred = new_predictions_0, pos_label = 'stable')\n",
        "print('Precision: {}'.format(round(precision0*100 ), 2))"
      ],
      "execution_count": null,
      "outputs": []
    },
    {
      "cell_type": "code",
      "metadata": {
        "id": "tyzAE_gTBjfn",
        "colab_type": "code",
        "colab": {}
      },
      "source": [
        "recall0 = recall_score(y_true = y_test, y_pred = new_predictions_0, pos_label = 'stable')\n",
        "print('Recall: {}'.format(round(recall0*100 ), 2))"
      ],
      "execution_count": null,
      "outputs": []
    },
    {
      "cell_type": "code",
      "metadata": {
        "id": "d-Y2nX1oBpqn",
        "colab_type": "code",
        "colab": {}
      },
      "source": [
        "f1_score0 = f1_score(y_true = y_test, y_pred = new_predictions_0, pos_label= 'stable')\n",
        "print('F1: {}'.format(round(f1_score0*100), 2))"
      ],
      "execution_count": null,
      "outputs": []
    },
    {
      "cell_type": "code",
      "metadata": {
        "id": "6ipoftRyByAj",
        "colab_type": "code",
        "colab": {}
      },
      "source": [
        "from sklearn.metrics import classification_report\n",
        "print(classification_report(y_true = y_test, y_pred = new_predictions_0, labels = ['unstable', 'stable']))"
      ],
      "execution_count": null,
      "outputs": []
    },
    {
      "cell_type": "code",
      "metadata": {
        "id": "gi3fBcgKB4tD",
        "colab_type": "code",
        "colab": {}
      },
      "source": [
        "# Extra tree classifier\n",
        "\n",
        "\n",
        "from sklearn.ensemble import ExtraTreesClassifier\n",
        "tree = ExtraTreesClassifier(random_state = 1)\n",
        "\n",
        "tree.fit(standardised_train_df, y_train).feature_importances_"
      ],
      "execution_count": null,
      "outputs": []
    },
    {
      "cell_type": "code",
      "metadata": {
        "id": "kpL72ZS1CEn_",
        "colab_type": "code",
        "colab": {}
      },
      "source": [
        "from sklearn.metrics import recall_score, accuracy_score, precision_score, f1_score, confusion_matrix\n",
        "new_predictions_1 = tree.predict(standardised_test_df)"
      ],
      "execution_count": null,
      "outputs": []
    },
    {
      "cell_type": "code",
      "metadata": {
        "id": "ux1BbB_uCOI1",
        "colab_type": "code",
        "colab": {}
      },
      "source": [
        "cnf_mat1 = confusion_matrix(y_true = y_test, y_pred = new_predictions_1, labels = ['unstable', 'stable'])\n",
        "cnf_mat1"
      ],
      "execution_count": null,
      "outputs": []
    },
    {
      "cell_type": "code",
      "metadata": {
        "id": "NKpZQU6xCUdZ",
        "colab_type": "code",
        "colab": {}
      },
      "source": [
        "accuracy1 = accuracy_score(y_true = y_test, y_pred = new_predictions_1)\n",
        "print( 'Accuracy: {}'.format(round(accuracy1*100), 2))"
      ],
      "execution_count": null,
      "outputs": []
    },
    {
      "cell_type": "code",
      "metadata": {
        "id": "lKxhCRFuCZcO",
        "colab_type": "code",
        "colab": {}
      },
      "source": [
        "precision1 = precision_score(y_true = y_test, y_pred = new_predictions_1, pos_label = 'stable')\n",
        "print('Precision: {}'.format(round(precision1*100), 2))"
      ],
      "execution_count": null,
      "outputs": []
    },
    {
      "cell_type": "code",
      "metadata": {
        "id": "E1bmYPUWCfKG",
        "colab_type": "code",
        "colab": {}
      },
      "source": [
        "recall1 = recall_score(y_true = y_test, y_pred = new_predictions_1, pos_label = 'stable')\n",
        "print('Recall: {}'.format(round(recall1*100), 2))"
      ],
      "execution_count": null,
      "outputs": []
    },
    {
      "cell_type": "code",
      "metadata": {
        "id": "C-Fu-8jGCiIJ",
        "colab_type": "code",
        "colab": {}
      },
      "source": [
        "f1_score1 = f1_score(y_true = y_test, y_pred = new_predictions_1, pos_label= 'stable')\n",
        "print('F1: {}'.format(round(f1_score1*100), 2))"
      ],
      "execution_count": null,
      "outputs": []
    },
    {
      "cell_type": "code",
      "metadata": {
        "id": "AniNS5E3CsAU",
        "colab_type": "code",
        "colab": {}
      },
      "source": [
        "from sklearn.metrics import classification_report\n",
        "print(classification_report(y_true = y_test, y_pred = new_predictions_1, labels = ['unstable', 'stable']))"
      ],
      "execution_count": null,
      "outputs": []
    },
    {
      "cell_type": "code",
      "metadata": {
        "id": "PJeCq8NnCup9",
        "colab_type": "code",
        "colab": {}
      },
      "source": [
        "# Extra tree classifier and Randomized CSV\n",
        "\n",
        "n_estimators = [50, 100, 300, 500, 1000]\n",
        "min_samples_split = [2, 3, 5, 7, 9]\n",
        "min_samples_leaf = [1, 2, 4, 6, 8]\n",
        "max_features = ['auto', 'sqrt', 'log2', None]\n",
        "\n",
        "hyperparameter_grid = {'n_estimators' : n_estimators,\n",
        "                       'min_samples_leaf' : min_samples_leaf,\n",
        "                       'min_samples_split' : min_samples_split,\n",
        "                       'max_features' : max_features}"
      ],
      "execution_count": null,
      "outputs": []
    },
    {
      "cell_type": "code",
      "metadata": {
        "id": "OUpEyVN3DEs-",
        "colab_type": "code",
        "colab": {}
      },
      "source": [
        "from sklearn.ensemble import ExtraTreesClassifier\n",
        "tree = ExtraTreesClassifier(max_features=None, min_samples_leaf=8, min_samples_split=2, n_estimators=1000, random_state = 1)"
      ],
      "execution_count": null,
      "outputs": []
    },
    {
      "cell_type": "code",
      "metadata": {
        "id": "r8klbPdJDG7q",
        "colab_type": "code",
        "colab": {
          "base_uri": "https://localhost:8080/",
          "height": 544
        },
        "outputId": "ab32e797-bae1-4550-cb08-02ee2294ce7e"
      },
      "source": [
        "from sklearn.model_selection import RandomizedSearchCV\n",
        "random = RandomizedSearchCV(estimator = tree, param_distributions = hyperparameter_grid, cv=5, n_iter=10, scoring = 'accuracy', n_jobs = -1, verbose = 1, random_state = 1)\n",
        "\n",
        "random.fit(standardised_train_df, y_train)"
      ],
      "execution_count": null,
      "outputs": [
        {
          "output_type": "stream",
          "text": [
            "Fitting 5 folds for each of 10 candidates, totalling 50 fits\n"
          ],
          "name": "stdout"
        },
        {
          "output_type": "stream",
          "text": [
            "[Parallel(n_jobs=-1)]: Using backend LokyBackend with 2 concurrent workers.\n",
            "[Parallel(n_jobs=-1)]: Done  46 tasks      | elapsed:  1.4min\n",
            "[Parallel(n_jobs=-1)]: Done  50 out of  50 | elapsed:  1.5min finished\n"
          ],
          "name": "stderr"
        },
        {
          "output_type": "execute_result",
          "data": {
            "text/plain": [
              "RandomizedSearchCV(cv=5, error_score=nan,\n",
              "                   estimator=ExtraTreesClassifier(bootstrap=False,\n",
              "                                                  ccp_alpha=0.0,\n",
              "                                                  class_weight=None,\n",
              "                                                  criterion='gini',\n",
              "                                                  max_depth=None,\n",
              "                                                  max_features=None,\n",
              "                                                  max_leaf_nodes=None,\n",
              "                                                  max_samples=None,\n",
              "                                                  min_impurity_decrease=0.0,\n",
              "                                                  min_impurity_split=None,\n",
              "                                                  min_samples_leaf=8,\n",
              "                                                  min_samples_split=2,\n",
              "                                                  min_weight_fraction_leaf=0.0,\n",
              "                                                  n_estimators=1000,\n",
              "                                                  n_jobs=N...,\n",
              "                                                  random_state=1, verbose=0,\n",
              "                                                  warm_start=False),\n",
              "                   iid='deprecated', n_iter=10, n_jobs=-1,\n",
              "                   param_distributions={'max_features': ['auto', 'sqrt', 'log2',\n",
              "                                                         None],\n",
              "                                        'min_samples_leaf': [1, 2, 4, 6, 8],\n",
              "                                        'min_samples_split': [2, 3, 5, 7, 9],\n",
              "                                        'n_estimators': [50, 100, 300, 500,\n",
              "                                                         1000]},\n",
              "                   pre_dispatch='2*n_jobs', random_state=1, refit=True,\n",
              "                   return_train_score=False, scoring='accuracy', verbose=1)"
            ]
          },
          "metadata": {
            "tags": []
          },
          "execution_count": 40
        }
      ]
    },
    {
      "cell_type": "code",
      "metadata": {
        "id": "NEt298CBDVDN",
        "colab_type": "code",
        "colab": {}
      },
      "source": [
        "from sklearn.metrics import recall_score, accuracy_score, precision_score, f1_score, confusion_matrix\n",
        "new_predictions_2 = random.predict(standardised_test_df)"
      ],
      "execution_count": null,
      "outputs": []
    },
    {
      "cell_type": "code",
      "metadata": {
        "id": "41mbljDyDWYK",
        "colab_type": "code",
        "colab": {}
      },
      "source": [
        "cnf_mat2 = confusion_matrix(y_true = y_test, y_pred = new_predictions_2, labels = ['unstable', 'stable'])\n",
        "cnf_mat2"
      ],
      "execution_count": null,
      "outputs": []
    },
    {
      "cell_type": "code",
      "metadata": {
        "id": "8Dxsh6Q1Dnw_",
        "colab_type": "code",
        "colab": {}
      },
      "source": [
        "accuracy2 = accuracy_score(y_true = y_test, y_pred = new_predictions_2)\n",
        "print( 'Accuracy: {}'.format(round(accuracy2*100), 2))"
      ],
      "execution_count": null,
      "outputs": []
    },
    {
      "cell_type": "code",
      "metadata": {
        "id": "qCCX8hlTDnsB",
        "colab_type": "code",
        "colab": {}
      },
      "source": [
        "precision2 = precision_score(y_true = y_test, y_pred = new_predictions_2, pos_label = 'stable')\n",
        "print('Precision: {}'.format(round(precision2*100), 2))"
      ],
      "execution_count": null,
      "outputs": []
    },
    {
      "cell_type": "code",
      "metadata": {
        "id": "BNsoHlt7Dy-u",
        "colab_type": "code",
        "colab": {}
      },
      "source": [
        "recall2 = recall_score(y_true = y_test, y_pred = new_predictions_2, pos_label = 'stable')\n",
        "print('Recall: {}'.format(round(recall2*100), 2))"
      ],
      "execution_count": null,
      "outputs": []
    },
    {
      "cell_type": "code",
      "metadata": {
        "id": "7rd_TiQpD5xS",
        "colab_type": "code",
        "colab": {}
      },
      "source": [
        "f1_score2 = f1_score(y_true = y_test, y_pred = new_predictions_2, pos_label= 'stable')\n",
        "print('F1: {}'.format(round(f1_score2*100), 2))"
      ],
      "execution_count": null,
      "outputs": []
    },
    {
      "cell_type": "code",
      "metadata": {
        "id": "kCExcjAQEATe",
        "colab_type": "code",
        "colab": {}
      },
      "source": [
        "from sklearn.metrics import classification_report\n",
        "print(classification_report(y_true = y_test, y_pred = new_predictions_2, labels = ['unstable', 'stable']))"
      ],
      "execution_count": null,
      "outputs": []
    },
    {
      "cell_type": "code",
      "metadata": {
        "id": "oIdDjvmsGmDA",
        "colab_type": "code",
        "colab": {
          "base_uri": "https://localhost:8080/",
          "height": 136
        },
        "outputId": "b20b7d64-80e7-4d2c-ffaa-1a43f3e2d59e"
      },
      "source": [
        "#XGBOOST\n",
        "\n",
        "from xgboost import XGBClassifier\n",
        "\n",
        "xg_model = XGBClassifier(random_state = 1)\n",
        "xg_model.fit(standardised_train_df, y_train)"
      ],
      "execution_count": null,
      "outputs": [
        {
          "output_type": "execute_result",
          "data": {
            "text/plain": [
              "XGBClassifier(base_score=0.5, booster='gbtree', colsample_bylevel=1,\n",
              "              colsample_bynode=1, colsample_bytree=1, gamma=0,\n",
              "              learning_rate=0.1, max_delta_step=0, max_depth=3,\n",
              "              min_child_weight=1, missing=None, n_estimators=100, n_jobs=1,\n",
              "              nthread=None, objective='binary:logistic', random_state=1,\n",
              "              reg_alpha=0, reg_lambda=1, scale_pos_weight=1, seed=None,\n",
              "              silent=None, subsample=1, verbosity=1)"
            ]
          },
          "metadata": {
            "tags": []
          },
          "execution_count": 50
        }
      ]
    },
    {
      "cell_type": "code",
      "metadata": {
        "id": "dOhfW2sTEWO0",
        "colab_type": "code",
        "colab": {}
      },
      "source": [
        "from sklearn.metrics import recall_score, accuracy_score, precision_score, f1_score, confusion_matrix\n",
        "new_predictions_3 = xg_model.predict(standardised_test_df)"
      ],
      "execution_count": null,
      "outputs": []
    },
    {
      "cell_type": "code",
      "metadata": {
        "id": "OQUtbmQyEXZX",
        "colab_type": "code",
        "colab": {}
      },
      "source": [
        "cnf_mat3 = confusion_matrix(y_true = y_test, y_pred = new_predictions_3, labels = ['unstable', 'stable'])\n",
        "cnf_mat3"
      ],
      "execution_count": null,
      "outputs": []
    },
    {
      "cell_type": "code",
      "metadata": {
        "id": "aso8P0IHEdk7",
        "colab_type": "code",
        "colab": {}
      },
      "source": [
        "accuracy3 = accuracy_score(y_true = y_test, y_pred = new_predictions_3)\n",
        "print( 'Accuracy: {}'.format(round(accuracy3*100), 2))"
      ],
      "execution_count": null,
      "outputs": []
    },
    {
      "cell_type": "code",
      "metadata": {
        "id": "f8VDSJ7_EezA",
        "colab_type": "code",
        "colab": {}
      },
      "source": [
        "precision3 = precision_score(y_true = y_test, y_pred = new_predictions_3, pos_label = 'stable')\n",
        "print('Precision: {}'.format(round(precision3*100), 2))"
      ],
      "execution_count": null,
      "outputs": []
    },
    {
      "cell_type": "code",
      "metadata": {
        "id": "BCGipRkwEk3i",
        "colab_type": "code",
        "colab": {}
      },
      "source": [
        "recall3 = recall_score(y_true = y_test, y_pred = new_predictions_3, pos_label = 'stable')\n",
        "print('Recall: {}'.format(round(recall3*100), 2))"
      ],
      "execution_count": null,
      "outputs": []
    },
    {
      "cell_type": "code",
      "metadata": {
        "id": "nyKoGZs7Emmj",
        "colab_type": "code",
        "colab": {}
      },
      "source": [
        "f1_score3 = f1_score(y_true = y_test, y_pred = new_predictions_3, pos_label= 'stable')\n",
        "print('F1: {}'.format(round(f1_score3*100), 2))"
      ],
      "execution_count": null,
      "outputs": []
    },
    {
      "cell_type": "code",
      "metadata": {
        "id": "QRTaTwS-ErnI",
        "colab_type": "code",
        "colab": {}
      },
      "source": [
        "from sklearn.metrics import classification_report\n",
        "print(classification_report(y_true = y_test, y_pred = new_predictions_3, labels = ['unstable', 'stable']))"
      ],
      "execution_count": null,
      "outputs": []
    },
    {
      "cell_type": "code",
      "metadata": {
        "id": "yGCSMYwOEwQc",
        "colab_type": "code",
        "colab": {}
      },
      "source": [
        "# FROM LIGHTGBM\n",
        "\n",
        "from lightgbm import LGBMClassifier\n",
        "\n",
        "lgbm_model = LGBMClassifier(random_state = 1)\n",
        "lgbm_model.fit(standardised_train_df, y_train)"
      ],
      "execution_count": null,
      "outputs": []
    },
    {
      "cell_type": "code",
      "metadata": {
        "id": "XYWidGdtHTXR",
        "colab_type": "code",
        "colab": {}
      },
      "source": [
        "from sklearn.metrics import recall_score, accuracy_score, precision_score, f1_score, confusion_matrix\n",
        "new_predictions_4 = lgbm_model.predict(standardised_test_df)"
      ],
      "execution_count": null,
      "outputs": []
    },
    {
      "cell_type": "code",
      "metadata": {
        "id": "pkBH89dAHdHH",
        "colab_type": "code",
        "colab": {}
      },
      "source": [
        "cnf_mat4 = confusion_matrix(y_true = y_test, y_pred = new_predictions_4, labels = ['unstable', 'stable'])\n",
        "cnf_mat4"
      ],
      "execution_count": null,
      "outputs": []
    },
    {
      "cell_type": "code",
      "metadata": {
        "id": "ZOrTkZgWHkZS",
        "colab_type": "code",
        "colab": {}
      },
      "source": [
        "accuracy4 = accuracy_score(y_true = y_test, y_pred = new_predictions_4)\n",
        "print( 'Accuracy: {}'.format(round(accuracy4*100), 2))"
      ],
      "execution_count": null,
      "outputs": []
    },
    {
      "cell_type": "code",
      "metadata": {
        "id": "kz0B9blPH16N",
        "colab_type": "code",
        "colab": {}
      },
      "source": [
        "precision4 = precision_score(y_true = y_test, y_pred = new_predictions_4, pos_label = 'stable')\n",
        "print('Precision: {}'.format(round(precision4*100), 2))"
      ],
      "execution_count": null,
      "outputs": []
    },
    {
      "cell_type": "code",
      "metadata": {
        "id": "6kXfZg-KIDdI",
        "colab_type": "code",
        "colab": {}
      },
      "source": [
        "recall4 = recall_score(y_true = y_test, y_pred = new_predictions_4, pos_label = 'stable')\n",
        "print('Recall: {}'.format(round(recall4*100), 2))"
      ],
      "execution_count": null,
      "outputs": []
    },
    {
      "cell_type": "code",
      "metadata": {
        "id": "PNcghfHXIG5o",
        "colab_type": "code",
        "colab": {}
      },
      "source": [
        "f1_score4 = f1_score(y_true = y_test, y_pred = new_predictions_4, pos_label= 'stable')\n",
        "print('F1: {}'.format(round(f1_score4*100), 2))"
      ],
      "execution_count": null,
      "outputs": []
    },
    {
      "cell_type": "code",
      "metadata": {
        "id": "qQ3iAt9YIS7t",
        "colab_type": "code",
        "colab": {}
      },
      "source": [
        "from sklearn.metrics import classification_report\n",
        "print(classification_report(y_true = y_test, y_pred = new_predictions_4, labels = ['unstable', 'stable']))"
      ],
      "execution_count": null,
      "outputs": []
    }
  ]
}